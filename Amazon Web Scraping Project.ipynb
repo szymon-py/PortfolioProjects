{
 "cells": [
  {
   "cell_type": "code",
   "execution_count": 42,
   "id": "b2b637ce",
   "metadata": {},
   "outputs": [],
   "source": [
    "# Import libraries\n",
    "\n",
    "import csv\n",
    "import pandas as pd\n",
    "from bs4 import BeautifulSoup\n",
    "import requests\n",
    "import time\n",
    "import datetime\n",
    "import smtplib"
   ]
  },
  {
   "cell_type": "code",
   "execution_count": 33,
   "id": "0fa65314",
   "metadata": {},
   "outputs": [
    {
     "name": "stdout",
     "output_type": "stream",
     "text": [
      "2 194,27\n",
      "Apple Watch Series 9 GPS 45 mm Smartwatch z kopertą z aluminium w kolorze północy i paskiem sportowym w kolorze północy – rozmiar M/L. Monitor fitness, aplikacje Tlen we krwi i EKG\n"
     ]
    }
   ],
   "source": [
    "# Connetct to website\n",
    "\n",
    "URL = \"https://www.amazon.pl/Apple-Smartwatch-kopert%C4%85-aluminium-sportowym/dp/B0CHXWQ2GN/ref=sr_1_16?_encoding=UTF8&content-id=amzn1.sym.41a0ac90-4a7f-46b4-8d5f-c149cb6d03a9&dib=eyJ2IjoiMSJ9.GnJl68uEU8tRzkFjfQaPAM6ElKl5XwQnntGQRwDXuHE_7s_HYDinVyJFod_n8QjUg21lUvxtjoKmj4Z-Xq0JejoWRm5D91ZG-7y8zRWUlbEQFc9zfW3FQqAmj4TpJ6bNqAc7EPhbZ6sMcfGk3rRUjDO50EvIq_c7hUC05CQS-c4XXH-ES5oBda0dm_eFfLjPcKxXAB7VsHPfxRoFEXTsXw_Jx8RbSAcP2esdLQeNo7exIy-0GIxgkw29Cwq9pOHnOgIYVgOb9gQn6BHzmrsehXombOZXskeG4y1LnWekulw.Tq96gEMABpqvh5W9WJT2tVOMY6cKASCFzsk_aHk1pZ8&dib_tag=se&pd_rd_r=c995390e-ce4f-4fe7-8024-608b321d095d&pd_rd_w=uE61P&pd_rd_wg=kNnHi&pf_rd_p=41a0ac90-4a7f-46b4-8d5f-c149cb6d03a9&pf_rd_r=A9KM13QAE02ZD53Q2G2X&qid=1717146698&s=electronics&sr=1-16\"\n",
    "\n",
    "headers = {\n",
    "    \"User-Agent\": \"Mozilla/5.0 (Windows NT 10.0; Win64; x64) AppleWebKit/537.36 (KHTML,like Gecko) Chrome/125.0.0.0 Safari/537.36\"\n",
    "}\n",
    "page = requests.get(URL, headers=headers)\n",
    "\n",
    "soup1 = BeautifulSoup(page.content, \"html.parser\")\n",
    "\n",
    "soup2 = BeautifulSoup(soup1.prettify(), \"html.parser\")\n",
    "\n",
    "title = soup2.find(id=\"productTitle\").get_text(strip=True)\n",
    "\n",
    "price_whole = soup2.find(class_='a-price-whole').get_text(strip=True)\n",
    "price_fraction = soup2.find(class_='a-price-fraction').get_text(strip=True)\n",
    "price = f'{price_whole}{price_fraction}'\n",
    "\n",
    "print(price)\n",
    "print(title)\n"
   ]
  },
  {
   "cell_type": "code",
   "execution_count": 39,
   "id": "4157cab5",
   "metadata": {},
   "outputs": [],
   "source": [
    "today = datetime.date.today()"
   ]
  },
  {
   "cell_type": "code",
   "execution_count": 40,
   "id": "164799cf",
   "metadata": {},
   "outputs": [],
   "source": [
    "header = [\"Title\", \"Price\",\"Date\"]\n",
    "data = [title, price, today]\n",
    "\n",
    "\n",
    "with open(\"AmazonWebScraper.csv\", \"w\", newline='') as f:\n",
    "    writer = csv.writer(f)\n",
    "    writer.writerow(header)\n",
    "    writer.writerow(data)\n",
    "    "
   ]
  },
  {
   "cell_type": "code",
   "execution_count": 44,
   "id": "d06ae27e",
   "metadata": {},
   "outputs": [],
   "source": [
    "# Appending data to the CSV\n",
    "\n",
    "with open(\"AmazonWebScraper.csv\", \"a+\", newline='') as f:\n",
    "    writer = csv.writer(f)\n",
    "    writer.writerow(data)\n",
    "    "
   ]
  },
  {
   "cell_type": "code",
   "execution_count": 53,
   "id": "abde4399",
   "metadata": {},
   "outputs": [],
   "source": [
    "def check_price():\n",
    "    URL = \"https://www.amazon.pl/Apple-Smartwatch-kopert%C4%85-aluminium-sportowym/dp/B0CHXWQ2GN/ref=sr_1_16?_encoding=UTF8&content-id=amzn1.sym.41a0ac90-4a7f-46b4-8d5f-c149cb6d03a9&dib=eyJ2IjoiMSJ9.GnJl68uEU8tRzkFjfQaPAM6ElKl5XwQnntGQRwDXuHE_7s_HYDinVyJFod_n8QjUg21lUvxtjoKmj4Z-Xq0JejoWRm5D91ZG-7y8zRWUlbEQFc9zfW3FQqAmj4TpJ6bNqAc7EPhbZ6sMcfGk3rRUjDO50EvIq_c7hUC05CQS-c4XXH-ES5oBda0dm_eFfLjPcKxXAB7VsHPfxRoFEXTsXw_Jx8RbSAcP2esdLQeNo7exIy-0GIxgkw29Cwq9pOHnOgIYVgOb9gQn6BHzmrsehXombOZXskeG4y1LnWekulw.Tq96gEMABpqvh5W9WJT2tVOMY6cKASCFzsk_aHk1pZ8&dib_tag=se&pd_rd_r=c995390e-ce4f-4fe7-8024-608b321d095d&pd_rd_w=uE61P&pd_rd_wg=kNnHi&pf_rd_p=41a0ac90-4a7f-46b4-8d5f-c149cb6d03a9&pf_rd_r=A9KM13QAE02ZD53Q2G2X&qid=1717146698&s=electronics&sr=1-16\"\n",
    "\n",
    "    headers = {\n",
    "        \"User-Agent\": \"Mozilla/5.0 (Windows NT 10.0; Win64; x64) AppleWebKit/537.36 (KHTML,like Gecko) Chrome/125.0.0.0 Safari/537.36\"\n",
    "    }\n",
    "    page = requests.get(URL, headers=headers)\n",
    "\n",
    "    soup1 = BeautifulSoup(page.content, \"html.parser\")\n",
    "\n",
    "    soup2 = BeautifulSoup(soup1.prettify(), \"html.parser\")\n",
    "\n",
    "    title = soup2.find(id=\"productTitle\").get_text(strip=True)\n",
    "\n",
    "    price_whole = soup2.find(class_=\"a-price-whole\").get_text(strip=True)\n",
    "    price_fraction = soup2.find(class_=\"a-price-fraction\").get_text(strip=True)\n",
    "    price = f'{price_whole}{price_fraction}'\n",
    "    today = datetime.date.today()\n",
    "    \n",
    "    header = [\"Title\", \"Price\",\"Date\"]\n",
    "    data = [title, price, today]\n",
    "\n",
    "    with open(\"AmazonWebScraper.csv\", \"a+\", newline='') as f:\n",
    "        writer = csv.writer(f)\n",
    "        writer.writerow(data)"
   ]
  },
  {
   "cell_type": "code",
   "execution_count": null,
   "id": "9f926590",
   "metadata": {},
   "outputs": [],
   "source": [
    "while True:\n",
    "    check_price()\n",
    "    time.sleep(86400)"
   ]
  }
 ],
 "metadata": {
  "kernelspec": {
   "display_name": "Python 3 (ipykernel)",
   "language": "python",
   "name": "python3"
  },
  "language_info": {
   "codemirror_mode": {
    "name": "ipython",
    "version": 3
   },
   "file_extension": ".py",
   "mimetype": "text/x-python",
   "name": "python",
   "nbconvert_exporter": "python",
   "pygments_lexer": "ipython3",
   "version": "3.9.13"
  }
 },
 "nbformat": 4,
 "nbformat_minor": 5
}
